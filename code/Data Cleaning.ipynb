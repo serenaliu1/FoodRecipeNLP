{
 "cells": [
  {
   "cell_type": "code",
   "execution_count": 2,
   "id": "b1b303dd",
   "metadata": {},
   "outputs": [],
   "source": [
    "import pandas as pd\n",
    "import numpy as np\n",
    "import seaborn as sns\n",
    "import re\n",
    "from gensim.models import Word2Vec\n",
    "from matplotlib import pyplot as plt\n",
    "from sklearn.decomposition import PCA\n",
    "pd.set_option('display.max_rows', None)\n",
    "pd.set_option('display.max_columns', None)"
   ]
  },
  {
   "cell_type": "code",
   "execution_count": 57,
   "id": "d89aca6e",
   "metadata": {},
   "outputs": [],
   "source": [
    "recipe_df = pd.read_csv('/Users/serenaliu/Documents/GitHub/FoodReceipeNLP/data/all_recipes.csv')\n",
    "test_df = pd.read_csv('/Users/serenaliu/Downloads/out-of-sample.csv')"
   ]
  },
  {
   "cell_type": "code",
   "execution_count": 78,
   "id": "ddacf6da",
   "metadata": {},
   "outputs": [
    {
     "data": {
      "text/plain": [
       "Name           False\n",
       "Ingredients    False\n",
       "Cuisine        False\n",
       "dtype: bool"
      ]
     },
     "execution_count": 78,
     "metadata": {},
     "output_type": "execute_result"
    }
   ],
   "source": [
    "# No missing values found\n",
    "recipe_df.isnull().any()"
   ]
  },
  {
   "cell_type": "markdown",
   "id": "af9c9e6a",
   "metadata": {},
   "source": [
    "## Data Exploration"
   ]
  },
  {
   "cell_type": "code",
   "execution_count": 3,
   "id": "3900ec4e",
   "metadata": {},
   "outputs": [
    {
     "data": {
      "image/png": "[encoded data removed]",
      "text/plain": [
       "<Figure size 576x432 with 1 Axes>"
      ]
     },
     "metadata": {
      "needs_background": "light"
     },
     "output_type": "display_data"
    }
   ],
   "source": [
    "# Reference: https://www.kaggle.com/code/fritzpassow/recipe-ingredients-analysis\n",
    "num_ingredients = recipe_df.Ingredients.map(lambda x:len(x))\n",
    "\n",
    "plt.figure(figsize = (8,6))\n",
    "plt.title('Histogram of the Number of Ingredients Across All Recipes', fontsize = 14)\n",
    "sns.histplot(num_ingredients)\n",
    "plt.savefig('/Users/serenaliu/Documents/GitHub/FoodReceipeNLP/plot/hist_ingredients.png')"
   ]
  },
  {
   "cell_type": "code",
   "execution_count": 51,
   "id": "6503d04f",
   "metadata": {},
   "outputs": [
    {
     "data": {
      "image/png": "[encoded data removed]",
      "text/plain": [
       "<Figure size 576x432 with 1 Axes>"
      ]
     },
     "metadata": {
      "needs_background": "light"
     },
     "output_type": "display_data"
    }
   ],
   "source": [
    "cusine_counts = recipe_df.Cuisine.value_counts()\n",
    "plt.figure(figsize = (8,6))\n",
    "plt.title('Number of Recipe for Each Cuisine', fontsize = 14)\n",
    "sns.barplot(x = cusine_counts, y = cusine_counts.index)\n",
    "plt.savefig('/Users/serenaliu/Documents/GitHub/FoodReceipeNLP/plot/barplot_cuisine.png')"
   ]
  },
  {
   "cell_type": "markdown",
   "id": "42011a4a",
   "metadata": {},
   "source": [
    "## Data cleaning"
   ]
  },
  {
   "cell_type": "code",
   "execution_count": 5,
   "id": "ed8a65a3",
   "metadata": {},
   "outputs": [],
   "source": [
    "# Reference: https://builtin.com/machine-learning/nlp-word2vec-python\n",
    "def clean_text(df, col_name):\n",
    "    '''\n",
    "    Given a column of data, remove unwanted special characters from the text\n",
    "    '''\n",
    "    clean_txt = []\n",
    "    for w in range(len(df[col_name])):\n",
    "        desc = df[col_name][w].lower()\n",
    "\n",
    "        # remove punctuation\n",
    "        desc = re.sub('[^a-zA-Z]', ' ', desc)\n",
    "\n",
    "        #remove tags\n",
    "        desc = re.sub(\"&lt;/?.*?&gt;\",\" &lt;&gt; \",desc)\n",
    "\n",
    "        # remove digits and special chars\n",
    "        desc = re.sub(\"(\\\\d|\\\\W)+\",\" \",desc)\n",
    "        clean_txt.append(desc)\n",
    "\n",
    "    df['Cleaned_'+ col_name] = clean_txt\n",
    "    return df"
   ]
  },
  {
   "cell_type": "code",
   "execution_count": 6,
   "id": "1323b63c",
   "metadata": {},
   "outputs": [],
   "source": [
    "def clean_multiword(df, col_name):\n",
    "    '''\n",
    "    Given an ingredient list, ensure multi-word ingredients are read as one\n",
    "    '''\n",
    "    clean_words = []\n",
    "    for w in range(len(df[col_name])):\n",
    "        desc = df[col_name][w]\n",
    "        desc = re.sub(' ', '-', desc)\n",
    "        clean_words.append(desc)\n",
    "    df['Cleaned_'+ col_name] = clean_words\n",
    "    return df"
   ]
  },
  {
   "cell_type": "code",
   "execution_count": 14,
   "id": "33cc0277",
   "metadata": {},
   "outputs": [],
   "source": [
    "def get_corpus(df_cleanrow):\n",
    "    '''\n",
    "    Tokenize each clean row based on whitespace and create a corpus\n",
    "    '''\n",
    "    corpus = []\n",
    "    for col in df_cleanrow:\n",
    "        word_list = re.split('[,|\\s]', col)\n",
    "        corpus.append(word_list)\n",
    "    return corpus"
   ]
  },
  {
   "cell_type": "code",
   "execution_count": 7,
   "id": "9aa9d338",
   "metadata": {},
   "outputs": [],
   "source": [
    "# Reference: https://towardsdatascience.com/understanding-feature-engineering-part-4-deep-learning-methods-for-text-data-96c44370bbfa\n",
    "def average_word_vectors(words, model, vocabulary, num_features):\n",
    "    '''\n",
    "    Average out the word embeddings from each word presented in the document\n",
    "    '''\n",
    "    feature_vector = np.zeros((num_features,),dtype=\"float64\")\n",
    "    nwords = 0\n",
    "    \n",
    "    for word in words:\n",
    "        if word in vocabulary: \n",
    "            nwords = nwords + 1\n",
    "            feature_vector = np.add(feature_vector, model.wv[word])\n",
    "    \n",
    "    if nwords:\n",
    "        feature_vector = np.divide(feature_vector, nwords)\n",
    "        \n",
    "    return feature_vector\n",
    "    \n",
    "    \n",
    "def averaged_word_vectorizer(corpus, model, num_features):\n",
    "    '''\n",
    "    Return the averaged word vectors as a dataframe\n",
    "    '''\n",
    "    vocabulary = set(model.wv.index_to_key)\n",
    "    features = [average_word_vectors(tokenized_sentence, model, vocabulary, num_features)\n",
    "                    for tokenized_sentence in corpus]\n",
    "    return np.array(features)\n"
   ]
  },
  {
   "cell_type": "code",
   "execution_count": 15,
   "id": "baa36d1d",
   "metadata": {},
   "outputs": [],
   "source": [
    "def extract_features(recipe_df):\n",
    "    '''\n",
    "    Produce a dataframe containing the vectorized form of the original feature space\n",
    "    '''\n",
    "    # Clear unwanted formats in raw texts\n",
    "    recipe_df = clean_text(recipe_df, 'Name')\n",
    "    recipe_df = clean_text(recipe_df, 'Ingredients')\n",
    "    recipe_df = clean_multiword(recipe_df, 'Ingredients')\n",
    "    \n",
    "    # Get document level embeddings for recipe names\n",
    "    name_corpus = get_corpus(recipe_df['Cleaned_Name'])\n",
    "    name_model = Word2Vec(name_corpus, min_count = 1, vector_size = 20, window = 5, sg = 1)\n",
    "    w2v_feature_array = averaged_word_vectorizer(name_corpus, name_model, 20)\n",
    "    name_features = pd.DataFrame(w2v_feature_array)\n",
    "    name_features = name_features.add_prefix('name_')\n",
    "    \n",
    "    # Get document level embeddings for ingredient lists\n",
    "    ingre_corpus = get_corpus(recipe_df['Cleaned_Ingredients'])\n",
    "    ingre_model = Word2Vec(ingre_corpus, min_count = 1, vector_size = 200, window = 50, sg = 1)\n",
    "    w2v_feature_array = averaged_word_vectorizer(ingre_corpus, ingre_model, 200)\n",
    "    ingre_features = pd.DataFrame(w2v_feature_array)\n",
    "    ingre_features = ingre_features.add_prefix('ingre_')\n",
    "    \n",
    "    # Combine vectorized feature space with cuisine lables\n",
    "    feature_df = pd.merge(name_features, ingre_features, left_index=True, right_index=True)\n",
    "    final_df = pd.merge(feature_df, recipe_df['Cuisine'],left_index=True, right_index=True)\n",
    "    \n",
    "    return final_df\n"
   ]
  },
  {
   "cell_type": "code",
   "execution_count": 33,
   "id": "ccf372a5",
   "metadata": {},
   "outputs": [],
   "source": [
    "clean_df = extract_features(recipe_df)\n",
    "clean_df.to_csv('/Users/serenaliu/Documents/GitHub/FoodReceipeNLP/data/cleaned_data.csv', \n",
    "                encoding='utf-8', index=False)"
   ]
  },
  {
   "cell_type": "markdown",
   "id": "b16f3d37",
   "metadata": {},
   "source": [
    "## Construct out of sample dataset (for testing)"
   ]
  },
  {
   "cell_type": "code",
   "execution_count": 58,
   "id": "032c2f88",
   "metadata": {},
   "outputs": [
    {
     "data": {
      "text/html": [
       "<div>\n",
       "<style scoped>\n",
       "    .dataframe tbody tr th:only-of-type {\n",
       "        vertical-align: middle;\n",
       "    }\n",
       "\n",
       "    .dataframe tbody tr th {\n",
       "        vertical-align: top;\n",
       "    }\n",
       "\n",
       "    .dataframe thead th {\n",
       "        text-align: right;\n",
       "    }\n",
       "</style>\n",
       "<table border=\"1\" class=\"dataframe\">\n",
       "  <thead>\n",
       "    <tr style=\"text-align: right;\">\n",
       "      <th></th>\n",
       "      <th>Name</th>\n",
       "      <th>Ingredients</th>\n",
       "      <th>Cuisine</th>\n",
       "    </tr>\n",
       "  </thead>\n",
       "  <tbody>\n",
       "    <tr>\n",
       "      <th>0</th>\n",
       "      <td>Roasted Peppers And Mushroom Tortilla Pizza Re...</td>\n",
       "      <td>Tortillas|Extra Virgin Olive Oil|Garlic|Mozzar...</td>\n",
       "      <td>mexican</td>\n",
       "    </tr>\n",
       "    <tr>\n",
       "      <th>1</th>\n",
       "      <td>Spicy Grilled Pineapple Salsa Recipe</td>\n",
       "      <td>Extra Virgin Olive Oil|Pineapple|White onion|R...</td>\n",
       "      <td>mexican</td>\n",
       "    </tr>\n",
       "    <tr>\n",
       "      <th>2</th>\n",
       "      <td>Barnyard Millet Mushroom Biryani Recipe</td>\n",
       "      <td>Barnyard Millet|Oil|Bay leaf (tej patta)|Carda...</td>\n",
       "      <td>indian</td>\n",
       "    </tr>\n",
       "    <tr>\n",
       "      <th>3</th>\n",
       "      <td>Mexican Green Sauce Recipe</td>\n",
       "      <td>Coriander (Dhania) Leaves|Tahini|Lemon juice|E...</td>\n",
       "      <td>mexican</td>\n",
       "    </tr>\n",
       "    <tr>\n",
       "      <th>4</th>\n",
       "      <td>Savory Shrimps On Skillet Recipe</td>\n",
       "      <td>Shrimps|Butter (Salted)|Orange color|Lemon jui...</td>\n",
       "      <td>indian</td>\n",
       "    </tr>\n",
       "  </tbody>\n",
       "</table>\n",
       "</div>"
      ],
      "text/plain": [
       "                                                Name  \\\n",
       "0  Roasted Peppers And Mushroom Tortilla Pizza Re...   \n",
       "1               Spicy Grilled Pineapple Salsa Recipe   \n",
       "2            Barnyard Millet Mushroom Biryani Recipe   \n",
       "3                        Mexican Green Sauce Recipe    \n",
       "4                   Savory Shrimps On Skillet Recipe   \n",
       "\n",
       "                                         Ingredients  Cuisine  \n",
       "0  Tortillas|Extra Virgin Olive Oil|Garlic|Mozzar...  mexican  \n",
       "1  Extra Virgin Olive Oil|Pineapple|White onion|R...  mexican  \n",
       "2  Barnyard Millet|Oil|Bay leaf (tej patta)|Carda...   indian  \n",
       "3  Coriander (Dhania) Leaves|Tahini|Lemon juice|E...  mexican  \n",
       "4  Shrimps|Butter (Salted)|Orange color|Lemon jui...   indian  "
      ]
     },
     "execution_count": 58,
     "metadata": {},
     "output_type": "execute_result"
    }
   ],
   "source": [
    "# Ensure that the out of sample data has the same column names as the recipe data obtained from web crawling\n",
    "test_df = test_df[['recipe_title', 'ingredients', 'cuisine']]\n",
    "test_df = test_df.rename(columns = {'recipe_title': 'Name', 'ingredients': 'Ingredients', 'cuisine': 'Cuisine'})\n",
    "test_df['Cuisine'] = test_df['Cuisine'].str.lower()\n",
    "\n",
    "# Only select the recipes from the same set of cuisine labels \n",
    "cuisine = ['mexican', 'italian', 'indian', 'thai', 'korean', 'latin-american', 'french', 'chinese',\n",
    "           'japanese', 'spanish']\n",
    "test_df = test_df[test_df['Cuisine'].isin(cuisine)]\n",
    "test_df.reset_index(drop=True, inplace=True)\n",
    "\n",
    "# Randomly sample 10 recipes from each type of cuisine\n",
    "sampled_test_df = test_df.groupby('Cuisine').apply(lambda x: x.sample(5)).reset_index(drop=True)"
   ]
  },
  {
   "cell_type": "code",
   "execution_count": 81,
   "id": "0a5dc5a0",
   "metadata": {},
   "outputs": [],
   "source": [
    "clean_test_df = extract_features(sampled_test_df)\n",
    "clean_test_df.to_csv('/Users/serenaliu/Documents/GitHub/FoodReceipeNLP/data/test_data.csv', \n",
    "                encoding='utf-8', index=False)"
   ]
  }
 ],
 "metadata": {
  "kernelspec": {
   "display_name": "Python 3 (ipykernel)",
   "language": "python",
   "name": "python3"
  },
  "language_info": {
   "codemirror_mode": {
    "name": "ipython",
    "version": 3
   },
   "file_extension": ".py",
   "mimetype": "text/x-python",
   "name": "python",
   "nbconvert_exporter": "python",
   "pygments_lexer": "ipython3",
   "version": "3.9.12"
  }
 },
 "nbformat": 4,
 "nbformat_minor": 5
}
