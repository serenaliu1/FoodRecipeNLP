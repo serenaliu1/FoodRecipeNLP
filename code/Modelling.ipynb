{
 "cells": [
  {
   "cell_type": "code",
   "execution_count": 3,
   "id": "b1b303dd",
   "metadata": {},
   "outputs": [],
   "source": [
    "import pandas as pd\n",
    "from gensim.models import Word2Vec, KeyedVectors"
   ]
  },
  {
   "cell_type": "code",
   "execution_count": 5,
   "id": "d89aca6e",
   "metadata": {},
   "outputs": [
    {
     "data": {
      "text/html": [
       "<div>\n",
       "<style scoped>\n",
       "    .dataframe tbody tr th:only-of-type {\n",
       "        vertical-align: middle;\n",
       "    }\n",
       "\n",
       "    .dataframe tbody tr th {\n",
       "        vertical-align: top;\n",
       "    }\n",
       "\n",
       "    .dataframe thead th {\n",
       "        text-align: right;\n",
       "    }\n",
       "</style>\n",
       "<table border=\"1\" class=\"dataframe\">\n",
       "  <thead>\n",
       "    <tr style=\"text-align: right;\">\n",
       "      <th></th>\n",
       "      <th>Name</th>\n",
       "      <th>Ingredients</th>\n",
       "      <th>Cuisine</th>\n",
       "    </tr>\n",
       "  </thead>\n",
       "  <tbody>\n",
       "    <tr>\n",
       "      <th>0</th>\n",
       "      <td>Fish Tacos - Baja Style</td>\n",
       "      <td>all-purpose flour,baking powder,beer,cayenne,c...</td>\n",
       "      <td>mexican</td>\n",
       "    </tr>\n",
       "    <tr>\n",
       "      <th>1</th>\n",
       "      <td>Margarita</td>\n",
       "      <td>lemon juice,lime juice,tequila,triple sec</td>\n",
       "      <td>mexican</td>\n",
       "    </tr>\n",
       "    <tr>\n",
       "      <th>2</th>\n",
       "      <td>Menudo Rojo (Red Menudo)</td>\n",
       "      <td>chili peppers,corn tortillas,crushed red peppe...</td>\n",
       "      <td>mexican</td>\n",
       "    </tr>\n",
       "    <tr>\n",
       "      <th>3</th>\n",
       "      <td>Birria</td>\n",
       "      <td>bay leaves,beef,black peppercorns,cider vinega...</td>\n",
       "      <td>mexican</td>\n",
       "    </tr>\n",
       "    <tr>\n",
       "      <th>4</th>\n",
       "      <td>Machaca Burritos</td>\n",
       "      <td>butter,eggs,grape tomatoes,meat,mozzarella che...</td>\n",
       "      <td>mexican</td>\n",
       "    </tr>\n",
       "  </tbody>\n",
       "</table>\n",
       "</div>"
      ],
      "text/plain": [
       "                       Name  \\\n",
       "0   Fish Tacos - Baja Style   \n",
       "1                 Margarita   \n",
       "2  Menudo Rojo (Red Menudo)   \n",
       "3                    Birria   \n",
       "4          Machaca Burritos   \n",
       "\n",
       "                                         Ingredients  Cuisine  \n",
       "0  all-purpose flour,baking powder,beer,cayenne,c...  mexican  \n",
       "1          lemon juice,lime juice,tequila,triple sec  mexican  \n",
       "2  chili peppers,corn tortillas,crushed red peppe...  mexican  \n",
       "3  bay leaves,beef,black peppercorns,cider vinega...  mexican  \n",
       "4  butter,eggs,grape tomatoes,meat,mozzarella che...  mexican  "
      ]
     },
     "execution_count": 5,
     "metadata": {},
     "output_type": "execute_result"
    }
   ],
   "source": [
    "recipe_df = pd.read_csv(\"/Users/serenaliu/Documents/GitHub/FoodReceipeNLP/data/all_recipes.csv\")\n",
    "recipe_df.head()"
   ]
  }
 ],
 "metadata": {
  "kernelspec": {
   "display_name": "Python 3 (ipykernel)",
   "language": "python",
   "name": "python3"
  },
  "language_info": {
   "codemirror_mode": {
    "name": "ipython",
    "version": 3
   },
   "file_extension": ".py",
   "mimetype": "text/x-python",
   "name": "python",
   "nbconvert_exporter": "python",
   "pygments_lexer": "ipython3",
   "version": "3.10.3"
  }
 },
 "nbformat": 4,
 "nbformat_minor": 5
}
